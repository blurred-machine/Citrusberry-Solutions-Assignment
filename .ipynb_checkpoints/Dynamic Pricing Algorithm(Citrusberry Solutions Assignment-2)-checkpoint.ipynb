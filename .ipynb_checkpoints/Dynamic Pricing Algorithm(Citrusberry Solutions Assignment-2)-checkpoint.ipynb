{
 "cells": [
  {
   "cell_type": "markdown",
   "metadata": {},
   "source": [
    "# Citrusberry Solutions Assignment-2 (Dynamic Pricing Algorithm)"
   ]
  },
  {
   "cell_type": "markdown",
   "metadata": {},
   "source": [
    "### Limited price experimentation"
   ]
  },
  {
   "cell_type": "code",
   "execution_count": 32,
   "metadata": {},
   "outputs": [],
   "source": [
    "import numpy as np\n",
    "import pandas as pd\n",
    "import seaborn\n",
    "import scipy\n",
    "import matplotlib.pyplot as plt"
   ]
  },
  {
   "cell_type": "code",
   "execution_count": 33,
   "metadata": {},
   "outputs": [],
   "source": [
    "def linear(a, b, x):\n",
    "    return b + a*x\n",
    "\n",
    "# a linear demand function is generated for every \n",
    "# pair of coefficients in vectors a_vec and b_vec \n",
    "def demand_hypotheses(a_vec, b_vec):\n",
    "    for a, b in itertools.product(a_vec, b_vec):\n",
    "        yield {\n",
    "            'd': functools.partial(linear, a, b),\n",
    "            'p_opt': -b/(2*a)\n",
    "        }"
   ]
  },
  {
   "cell_type": "code",
   "execution_count": 35,
   "metadata": {},
   "outputs": [
    {
     "ename": "TypeError",
     "evalue": "'int' object is not subscriptable",
     "output_type": "error",
     "traceback": [
      "\u001b[1;31m---------------------------------------------------------------------------\u001b[0m",
      "\u001b[1;31mTypeError\u001b[0m                                 Traceback (most recent call last)",
      "\u001b[1;32m<ipython-input-35-915789241530>\u001b[0m in \u001b[0;36m<module>\u001b[1;34m\u001b[0m\n\u001b[0;32m     14\u001b[0m \u001b[1;33m\u001b[0m\u001b[0m\n\u001b[0;32m     15\u001b[0m \u001b[0mtau\u001b[0m \u001b[1;33m=\u001b[0m \u001b[1;36m0\u001b[0m                                 \u001b[1;31m# start time of the current interval\u001b[0m\u001b[1;33m\u001b[0m\u001b[1;33m\u001b[0m\u001b[0m\n\u001b[1;32m---> 16\u001b[1;33m \u001b[0mp\u001b[0m \u001b[1;33m=\u001b[0m \u001b[0mh_vec\u001b[0m\u001b[1;33m[\u001b[0m\u001b[1;36m0\u001b[0m\u001b[1;33m]\u001b[0m\u001b[1;33m[\u001b[0m\u001b[1;34m'p_opt'\u001b[0m\u001b[1;33m]\u001b[0m                   \u001b[1;31m# initial price\u001b[0m\u001b[1;33m\u001b[0m\u001b[1;33m\u001b[0m\u001b[0m\n\u001b[0m\u001b[0;32m     17\u001b[0m \u001b[1;33m\u001b[0m\u001b[0m\n\u001b[0;32m     18\u001b[0m \u001b[0mt_mask\u001b[0m \u001b[1;33m=\u001b[0m \u001b[0mintervals\u001b[0m\u001b[1;33m(\u001b[0m\u001b[0mm\u001b[0m\u001b[1;33m,\u001b[0m \u001b[0mT\u001b[0m\u001b[1;33m,\u001b[0m \u001b[1;36m2\u001b[0m\u001b[1;33m)\u001b[0m\u001b[1;33m\u001b[0m\u001b[1;33m\u001b[0m\u001b[0m\n",
      "\u001b[1;31mTypeError\u001b[0m: 'int' object is not subscriptable"
     ]
    }
   ],
   "source": [
    "T = 24 * 1                              # time step is one hour, flash offering for 1 day \n",
    "m = 4                                   # not more than 4 price updates\n",
    "\n",
    "def logx(x, n):                         # iterative logarithm function\n",
    "    for i in range(0, n): x = math.log(x) if x > 0 else 0\n",
    "    return x\n",
    "\n",
    "def intervals(m, T, scale):             # generate a price schedule vector\n",
    "    mask = []\n",
    "    for i in range(1, m):\n",
    "        mask.extend( np.full(scale * math.ceil(logx(T, m - i)), i - 1) )\n",
    "    return np.append(mask, np.full(T - len(mask), m - 1))\n",
    "\n",
    "tau = 0                                 # start time of the current interval\n",
    "p = h_vec[0]['p_opt']                   # initial price\n",
    "\n",
    "t_mask = intervals(m, T, 2)\n",
    "h_vec = demand_hypotheses(...)\n",
    "\n",
    "hist_d = []\n",
    "for t in range(0, T - 1):               # simulation loop\n",
    "    realized_d = sample_actual_demand(p)\n",
    "    hist_d.append(realized_d)\n",
    "    \n",
    "    if( t_mask[t] != t_mask[t + 1] ):   # end of the interval\n",
    "        interval_mean_d = np.mean( hist_d[tau : t + 1] )\n",
    "        \n",
    "        min_dist = float(\"inf\")\n",
    "        for h in h_vec:                 # search for the best hypothesis\n",
    "            dist = abs(interval_mean_d - h['d'](p))\n",
    "            if(dist < min_dist):\n",
    "                min_error = error\n",
    "                h_opt = h\n",
    "                \n",
    "        p = h_opt['p_opt']              # set price for the next interval\n",
    "        tau = t + 1                     # switch to the next interval"
   ]
  },
  {
   "cell_type": "markdown",
   "metadata": {},
   "source": [
    "### Continuous experimentation under pricing rules"
   ]
  },
  {
   "cell_type": "code",
   "execution_count": 21,
   "metadata": {},
   "outputs": [],
   "source": [
    "# parameters\n",
    "prices = [1.99, 2.49, 2.99, 3.49, 3.99, 4.49]\n",
    "alpha_0 = 30.00     # parameter of the prior distribution\n",
    "beta_0 = 1.00       # parameter of the prior distribution\n",
    "\n",
    "# parameters of the true (unknown) demand model\n",
    "true_slop = 50\n",
    "true_intercept = -7\n",
    "\n",
    "# prior distribution for each price\n",
    "p_theta = []\n",
    "for p in prices:\n",
    "    p_theta.append({'price': p, 'alpha': alpha_0, 'beta': beta_0})\n",
    "\n",
    "def sample_actual_demand(price): \n",
    "    demand = true_slop + true_intercept * price\n",
    "    return np.random.poisson(demand, 1)[0]\n",
    "\n",
    "# sample mean demands for each price level\n",
    "def sample_demands_from_model(p_theta):\n",
    "    return list(map(lambda v: \n",
    "           np.random.gamma(v['alpha'], 1/v['beta']), p_theta))\n",
    "\n",
    "# return price that maximizes the revenue\n",
    "def optimal_price(prices, demands):\n",
    "    price_index = np.argmax(np.multiply(prices, demands))\n",
    "    return price_index, prices[price_index]\n",
    "\n",
    "# simulation loop        \n",
    "for t in range(0, T):\n",
    "    demands = sample_demands_from_model(p_theta)   \n",
    "    price_index_t, price_t = optimal_price(prices, demands)\n",
    "    \n",
    "    # offer the selected price and observe demand\n",
    "    demand_t = sample_actual_demand(price_t)\n",
    "        \n",
    "    # update model parameters\n",
    "    v = p_theta[price_index_t]\n",
    "    v['alpha'] = v['alpha'] + demand_t\n",
    "    v['beta'] = v['beta'] + 1"
   ]
  },
  {
   "cell_type": "markdown",
   "metadata": {},
   "source": [
    "### Multiple products or time intervals"
   ]
  },
  {
   "cell_type": "code",
   "execution_count": 22,
   "metadata": {},
   "outputs": [],
   "source": [
    "# prices - k-dimensional vector of allowed price levels \n",
    "# demands - n x k matrix of demand predictions\n",
    "# c - required sum of prices \n",
    "# where k is the number of price levels, n is number of products\n",
    "def optimal_prices_category(prices, demands, c):\n",
    "    \n",
    "    n, k = np.shape(demands)  \n",
    "\n",
    "    # prepare inputs   \n",
    "    r = np.multiply(np.tile(prices, n), np.array(demands).reshape(1, k*n))\n",
    "    A = np.array([[\n",
    "        1 if j >= k*(i) and j < k*(i+1) else 0\n",
    "        for j in range(k*n)\n",
    "    ] for i in range(n)])\n",
    "    A = np.append(A, np.tile(prices, n), axis=0)\n",
    "    b = [np.append(np.ones(n), c)]\n",
    "\n",
    "    # solve the linear program\n",
    "    res = scipy.optimize.linprog(-r.flatten(), \n",
    "              A_eq = A, \n",
    "              b_eq = b,  \n",
    "              bounds=(0, 1))\n",
    "\n",
    "    np.array(res.x).reshape(n, k)\n",
    "\n",
    "# test run\n",
    "optimal_prices_category(\n",
    "  np.array([[1.00, 1.50, 2.00, 2.50]]),   # allowed price levels\n",
    "  np.array([\n",
    "    [ 28, 23, 20, 13],                    # demands for product 1\n",
    "    [ 30, 22, 16, 12],                    # demands for product 2\n",
    "    [ 32, 26, 19, 15]                     # demands for product 3\n",
    "  ]), 5.50)                               # sum of prices for all three products"
   ]
  },
  {
   "cell_type": "code",
   "execution_count": 28,
   "metadata": {},
   "outputs": [
    {
     "name": "stderr",
     "output_type": "stream",
     "text": [
      "Auto-assigning NUTS sampler...\n",
      "Initializing NUTS using jitter+adapt_diag...\n",
      "Multiprocess sampling (4 chains in 4 jobs)\n",
      "NUTS: [theta]\n",
      "Sampling 4 chains, 0 divergences: 100%|██████████████████████████████████████| 42000/42000 [01:10<00:00, 598.04draws/s]\n",
      "The acceptance probability does not match the target. It is 0.8870531048675985, but should be close to 0.8. Try to increase the number of tuning steps.\n"
     ]
    },
    {
     "data": {
      "text/plain": [
       "<matplotlib.axes._subplots.AxesSubplot at 0x1a144d6c438>"
      ]
     },
     "execution_count": 28,
     "metadata": {},
     "output_type": "execute_result"
    },
    {
     "data": {
      "image/png": "[encoded data removed]",
      "text/plain": [
       "<Figure size 432x288 with 1 Axes>"
      ]
     },
     "metadata": {
      "needs_background": "light"
     },
     "output_type": "display_data"
    }
   ],
   "source": [
    "import pymc3 as pm\n",
    "\n",
    "d0 = [20, 28, 24, 20, 23]                # observed demand samples\n",
    "\n",
    "with pm.Model() as m:\n",
    "    d = pm.Gamma('theta', 1, 1)          # prior distribution\n",
    "    pm.Poisson('d0', d, observed = d0)   # likelihood\n",
    "    samples = pm.sample(10000)           # draw samples from the posterior\n",
    "    \n",
    "seaborn.distplot(samples.get_values('theta'), fit=scipy.stats.gamma)"
   ]
  },
  {
   "cell_type": "code",
   "execution_count": 24,
   "metadata": {},
   "outputs": [
    {
     "name": "stderr",
     "output_type": "stream",
     "text": [
      "Auto-assigning NUTS sampler...\n",
      "Initializing NUTS using jitter+adapt_diag...\n",
      "Multiprocess sampling (4 chains in 4 jobs)\n",
      "NUTS: [a, log_b]\n",
      "Sampling 4 chains, 0 divergences: 100%|█████████████████████████████████████████| 4000/4000 [01:49<00:00,  8.96draws/s]\n",
      "The acceptance probability does not match the target. It is 0.8864544651274285, but should be close to 0.8. Try to increase the number of tuning steps.\n",
      "The acceptance probability does not match the target. It is 0.9037696774120397, but should be close to 0.8. Try to increase the number of tuning steps.\n",
      "The acceptance probability does not match the target. It is 0.8911824403347588, but should be close to 0.8. Try to increase the number of tuning steps.\n",
      "The number of effective samples is smaller than 25% for some parameters.\n"
     ]
    }
   ],
   "source": [
    "p0 = [15, 14, 13, 12, 11]    # offered prices\n",
    "d0 = [20, 28, 35, 50, 65]    # observed demands (for each offered price)\n",
    "\n",
    "with pm.Model() as m:\n",
    "    # priors\n",
    "    log_b = pm.Normal('log_b', sd = 5)\n",
    "    a = pm.Normal('a', sd = 5)\n",
    "\n",
    "    log_d = log_b + a * np.log(p0)                    # demand model\n",
    "    pm.Poisson('d0', np.exp(log_d), observed = d0)    # likelihood\n",
    "    s = pm.sample()                                   # inference"
   ]
  },
  {
   "cell_type": "code",
   "execution_count": 27,
   "metadata": {},
   "outputs": [
    {
     "data": {
      "image/png": "[encoded data removed]",
      "text/plain": [
       "<Figure size 432x288 with 1 Axes>"
      ]
     },
     "metadata": {
      "needs_background": "light"
     },
     "output_type": "display_data"
    }
   ],
   "source": [
    "p = np.linspace(10, 16)   # price range\n",
    "d_means = np.exp(s.log_b + s.a * np.log(p).reshape(-1, 1))\n",
    "\n",
    "plt.plot(p, d_means, c = 'k', alpha = 0.01)\n",
    "plt.plot(p0, d0, 'o', c = 'r')\n",
    "plt.show()"
   ]
  }
 ],
 "metadata": {
  "kernelspec": {
   "display_name": "Python 3",
   "language": "python",
   "name": "python3"
  },
  "language_info": {
   "codemirror_mode": {
    "name": "ipython",
    "version": 3
   },
   "file_extension": ".py",
   "mimetype": "text/x-python",
   "name": "python",
   "nbconvert_exporter": "python",
   "pygments_lexer": "ipython3",
   "version": "3.7.3"
  }
 },
 "nbformat": 4,
 "nbformat_minor": 2
}
